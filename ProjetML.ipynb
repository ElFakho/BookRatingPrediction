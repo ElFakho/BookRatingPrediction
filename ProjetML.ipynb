{
 "cells": [
  {
   "cell_type": "code",
   "execution_count": 1,
   "id": "cfc079cb-5c2d-4e05-85e3-eb0ae20056f9",
   "metadata": {},
   "outputs": [],
   "source": [
    "import pandas as pd # Import pandas library for data manipulation and analysis\n",
    "import numpy as np  # Import numpy library for numerical operations\n",
    "import datetime #import datetime library to manage the date in the database\n",
    "import plotly.express as px #Import plotly.express library for correlation between the features\n",
    "import matplotlib.pyplot as plt  # Import the matplotlib.pyplot module to enable plotting and visualization. This module provides a MATLAB-like interface for creating a wide variety of plots and charts.\n",
    "from sklearn.model_selection import train_test_split # Import train_test_split function from sklearn to split data into training and testing sets\n",
    "from sklearn.linear_model import LinearRegression # Import LinearRegression from sklearn to use the Linear Regression algorithm for regression \n",
    "from sklearn.metrics import mean_squared_error, mean_absolute_error #Import mean_squared_error and mean_absolute_error to evaluate the model\n",
    "from sklearn.tree import DecisionTreeRegressor # Import DecisionTreeRegressor from sklearn to use the Decision Tree algorithm for regression \n",
    "from sklearn.ensemble import RandomForestRegressor # Import RandomForestRegressor from sklearn to use the Random Forest algorithm for regression\n",
    "from sklearn import linear_model # Import Linear_model from sklearn to use the Linear Model algorithm for regression \n",
    "import seaborn as sns   # Import the seaborn module, a statistical data visualization library built on top of matplotlib that offers a higher-level interface for drawing attractive and informative statistical graphics.\n",
    "import warnings # Import warnings library to control warning messages\n",
    "warnings.filterwarnings('ignore') # Suppress all warnings to ensure cleaner output during execution"
   ]
  },
  {
   "cell_type": "markdown",
   "id": "a1d647b3-f793-4e08-9ebd-a5459c58d60e",
   "metadata": {},
   "source": [
    "First of all we saw that some columns has been shrinked, so in two lines we have a extra columns. We have already fixed that directly in Excel."
   ]
  },
  {
   "cell_type": "markdown",
   "id": "b7f06de1-238f-46f5-bbd3-178572cc317b",
   "metadata": {},
   "source": [
    "1) Loading the dataset in order to first understand it"
   ]
  },
  {
   "cell_type": "code",
   "execution_count": 2,
   "id": "4ad71a81-b0f4-4162-84d8-b0f1d8b7a66f",
   "metadata": {},
   "outputs": [
    {
     "name": "stdout",
     "output_type": "stream",
     "text": [
      "<class 'pandas.core.frame.DataFrame'>\n",
      "Index: 11127 entries, 1 to 45641\n",
      "Data columns (total 11 columns):\n",
      " #   Column              Non-Null Count  Dtype  \n",
      "---  ------              --------------  -----  \n",
      " 0   title               11127 non-null  object \n",
      " 1   authors             11127 non-null  object \n",
      " 2   average_rating      11127 non-null  float64\n",
      " 3   isbn                11127 non-null  object \n",
      " 4   isbn13              11127 non-null  int64  \n",
      " 5   language_code       11127 non-null  object \n",
      " 6     num_pages         11127 non-null  int64  \n",
      " 7   ratings_count       11127 non-null  int64  \n",
      " 8   text_reviews_count  11127 non-null  int64  \n",
      " 9   publication_date    11127 non-null  object \n",
      " 10  publisher           11127 non-null  object \n",
      "dtypes: float64(1), int64(4), object(6)\n",
      "memory usage: 1.0+ MB\n"
     ]
    },
    {
     "data": {
      "text/html": [
       "<div>\n",
       "<style scoped>\n",
       "    .dataframe tbody tr th:only-of-type {\n",
       "        vertical-align: middle;\n",
       "    }\n",
       "\n",
       "    .dataframe tbody tr th {\n",
       "        vertical-align: top;\n",
       "    }\n",
       "\n",
       "    .dataframe thead th {\n",
       "        text-align: right;\n",
       "    }\n",
       "</style>\n",
       "<table border=\"1\" class=\"dataframe\">\n",
       "  <thead>\n",
       "    <tr style=\"text-align: right;\">\n",
       "      <th></th>\n",
       "      <th>title</th>\n",
       "      <th>authors</th>\n",
       "      <th>average_rating</th>\n",
       "      <th>isbn</th>\n",
       "      <th>isbn13</th>\n",
       "      <th>language_code</th>\n",
       "      <th>num_pages</th>\n",
       "      <th>ratings_count</th>\n",
       "      <th>text_reviews_count</th>\n",
       "      <th>publication_date</th>\n",
       "      <th>publisher</th>\n",
       "    </tr>\n",
       "    <tr>\n",
       "      <th>bookID</th>\n",
       "      <th></th>\n",
       "      <th></th>\n",
       "      <th></th>\n",
       "      <th></th>\n",
       "      <th></th>\n",
       "      <th></th>\n",
       "      <th></th>\n",
       "      <th></th>\n",
       "      <th></th>\n",
       "      <th></th>\n",
       "      <th></th>\n",
       "    </tr>\n",
       "  </thead>\n",
       "  <tbody>\n",
       "    <tr>\n",
       "      <th>1</th>\n",
       "      <td>Harry Potter and the Half-Blood Prince (Harry ...</td>\n",
       "      <td>J.K. Rowling/Mary GrandPrÃ©</td>\n",
       "      <td>4.57</td>\n",
       "      <td>439785960</td>\n",
       "      <td>9780440000000</td>\n",
       "      <td>eng</td>\n",
       "      <td>652</td>\n",
       "      <td>2095690</td>\n",
       "      <td>27591</td>\n",
       "      <td>9/16/2006</td>\n",
       "      <td>Scholastic Inc.</td>\n",
       "    </tr>\n",
       "    <tr>\n",
       "      <th>2</th>\n",
       "      <td>Harry Potter and the Order of the Phoenix (Har...</td>\n",
       "      <td>J.K. Rowling/Mary GrandPrÃ©</td>\n",
       "      <td>4.49</td>\n",
       "      <td>439358078</td>\n",
       "      <td>9780440000000</td>\n",
       "      <td>eng</td>\n",
       "      <td>870</td>\n",
       "      <td>2153167</td>\n",
       "      <td>29221</td>\n",
       "      <td>9/1/2004</td>\n",
       "      <td>Scholastic Inc.</td>\n",
       "    </tr>\n",
       "    <tr>\n",
       "      <th>4</th>\n",
       "      <td>Harry Potter and the Chamber of Secrets (Harry...</td>\n",
       "      <td>J.K. Rowling</td>\n",
       "      <td>4.42</td>\n",
       "      <td>439554896</td>\n",
       "      <td>9780440000000</td>\n",
       "      <td>eng</td>\n",
       "      <td>352</td>\n",
       "      <td>6333</td>\n",
       "      <td>244</td>\n",
       "      <td>11/1/2003</td>\n",
       "      <td>Scholastic</td>\n",
       "    </tr>\n",
       "    <tr>\n",
       "      <th>5</th>\n",
       "      <td>Harry Potter and the Prisoner of Azkaban (Harr...</td>\n",
       "      <td>J.K. Rowling/Mary GrandPrÃ©</td>\n",
       "      <td>4.56</td>\n",
       "      <td>043965548X</td>\n",
       "      <td>9780440000000</td>\n",
       "      <td>eng</td>\n",
       "      <td>435</td>\n",
       "      <td>2339585</td>\n",
       "      <td>36325</td>\n",
       "      <td>5/1/2004</td>\n",
       "      <td>Scholastic Inc.</td>\n",
       "    </tr>\n",
       "    <tr>\n",
       "      <th>8</th>\n",
       "      <td>Harry Potter Boxed Set  Books 1-5 (Harry Potte...</td>\n",
       "      <td>J.K. Rowling/Mary GrandPrÃ©</td>\n",
       "      <td>4.78</td>\n",
       "      <td>439682584</td>\n",
       "      <td>9780440000000</td>\n",
       "      <td>eng</td>\n",
       "      <td>2690</td>\n",
       "      <td>41428</td>\n",
       "      <td>164</td>\n",
       "      <td>9/13/2004</td>\n",
       "      <td>Scholastic</td>\n",
       "    </tr>\n",
       "  </tbody>\n",
       "</table>\n",
       "</div>"
      ],
      "text/plain": [
       "                                                    title  \\\n",
       "bookID                                                      \n",
       "1       Harry Potter and the Half-Blood Prince (Harry ...   \n",
       "2       Harry Potter and the Order of the Phoenix (Har...   \n",
       "4       Harry Potter and the Chamber of Secrets (Harry...   \n",
       "5       Harry Potter and the Prisoner of Azkaban (Harr...   \n",
       "8       Harry Potter Boxed Set  Books 1-5 (Harry Potte...   \n",
       "\n",
       "                            authors  average_rating        isbn  \\\n",
       "bookID                                                            \n",
       "1       J.K. Rowling/Mary GrandPrÃ©            4.57   439785960   \n",
       "2       J.K. Rowling/Mary GrandPrÃ©            4.49   439358078   \n",
       "4                      J.K. Rowling            4.42   439554896   \n",
       "5       J.K. Rowling/Mary GrandPrÃ©            4.56  043965548X   \n",
       "8       J.K. Rowling/Mary GrandPrÃ©            4.78   439682584   \n",
       "\n",
       "               isbn13 language_code    num_pages  ratings_count  \\\n",
       "bookID                                                            \n",
       "1       9780440000000           eng          652        2095690   \n",
       "2       9780440000000           eng          870        2153167   \n",
       "4       9780440000000           eng          352           6333   \n",
       "5       9780440000000           eng          435        2339585   \n",
       "8       9780440000000           eng         2690          41428   \n",
       "\n",
       "        text_reviews_count publication_date        publisher  \n",
       "bookID                                                        \n",
       "1                    27591        9/16/2006  Scholastic Inc.  \n",
       "2                    29221         9/1/2004  Scholastic Inc.  \n",
       "4                      244        11/1/2003       Scholastic  \n",
       "5                    36325         5/1/2004  Scholastic Inc.  \n",
       "8                      164        9/13/2004       Scholastic  "
      ]
     },
     "execution_count": 2,
     "metadata": {},
     "output_type": "execute_result"
    }
   ],
   "source": [
    "df = pd.read_csv(r\"books.csv\", encoding='utf-8', sep=',', index_col=\"bookID\")\n",
    "#importation of the database, encoding to read all the letters and put bookID as the index columns \n",
    "df.info() #check the number of value for each features, if there is some null and the datatype of each features\n",
    "df.head() #have a look to the first raws"
   ]
  },
  {
   "cell_type": "code",
   "execution_count": 3,
   "id": "b8dff9cf-3d63-45c0-bf15-f4c0aef384cd",
   "metadata": {},
   "outputs": [
    {
     "data": {
      "text/html": [
       "<div>\n",
       "<style scoped>\n",
       "    .dataframe tbody tr th:only-of-type {\n",
       "        vertical-align: middle;\n",
       "    }\n",
       "\n",
       "    .dataframe tbody tr th {\n",
       "        vertical-align: top;\n",
       "    }\n",
       "\n",
       "    .dataframe thead th {\n",
       "        text-align: right;\n",
       "    }\n",
       "</style>\n",
       "<table border=\"1\" class=\"dataframe\">\n",
       "  <thead>\n",
       "    <tr style=\"text-align: right;\">\n",
       "      <th></th>\n",
       "      <th>average_rating</th>\n",
       "      <th>isbn13</th>\n",
       "      <th>num_pages</th>\n",
       "      <th>ratings_count</th>\n",
       "      <th>text_reviews_count</th>\n",
       "    </tr>\n",
       "  </thead>\n",
       "  <tbody>\n",
       "    <tr>\n",
       "      <th>count</th>\n",
       "      <td>11127.00000</td>\n",
       "      <td>1.112700e+04</td>\n",
       "      <td>11127.000000</td>\n",
       "      <td>1.112700e+04</td>\n",
       "      <td>11127.000000</td>\n",
       "    </tr>\n",
       "    <tr>\n",
       "      <th>mean</th>\n",
       "      <td>3.93330</td>\n",
       "      <td>9.780889e+12</td>\n",
       "      <td>336.376921</td>\n",
       "      <td>1.793644e+04</td>\n",
       "      <td>541.854498</td>\n",
       "    </tr>\n",
       "    <tr>\n",
       "      <th>std</th>\n",
       "      <td>0.35438</td>\n",
       "      <td>1.243563e+09</td>\n",
       "      <td>241.127305</td>\n",
       "      <td>1.124794e+05</td>\n",
       "      <td>2576.176608</td>\n",
       "    </tr>\n",
       "    <tr>\n",
       "      <th>min</th>\n",
       "      <td>0.00000</td>\n",
       "      <td>9.780001e+12</td>\n",
       "      <td>0.000000</td>\n",
       "      <td>0.000000e+00</td>\n",
       "      <td>0.000000</td>\n",
       "    </tr>\n",
       "    <tr>\n",
       "      <th>25%</th>\n",
       "      <td>3.77000</td>\n",
       "      <td>9.780350e+12</td>\n",
       "      <td>192.000000</td>\n",
       "      <td>1.040000e+02</td>\n",
       "      <td>9.000000</td>\n",
       "    </tr>\n",
       "    <tr>\n",
       "      <th>50%</th>\n",
       "      <td>3.96000</td>\n",
       "      <td>9.780590e+12</td>\n",
       "      <td>299.000000</td>\n",
       "      <td>7.450000e+02</td>\n",
       "      <td>46.000000</td>\n",
       "    </tr>\n",
       "    <tr>\n",
       "      <th>75%</th>\n",
       "      <td>4.13500</td>\n",
       "      <td>9.780870e+12</td>\n",
       "      <td>416.000000</td>\n",
       "      <td>4.993500e+03</td>\n",
       "      <td>237.500000</td>\n",
       "    </tr>\n",
       "    <tr>\n",
       "      <th>max</th>\n",
       "      <td>5.00000</td>\n",
       "      <td>9.789999e+12</td>\n",
       "      <td>6576.000000</td>\n",
       "      <td>4.597666e+06</td>\n",
       "      <td>94265.000000</td>\n",
       "    </tr>\n",
       "  </tbody>\n",
       "</table>\n",
       "</div>"
      ],
      "text/plain": [
       "       average_rating        isbn13     num_pages  ratings_count  \\\n",
       "count     11127.00000  1.112700e+04  11127.000000   1.112700e+04   \n",
       "mean          3.93330  9.780889e+12    336.376921   1.793644e+04   \n",
       "std           0.35438  1.243563e+09    241.127305   1.124794e+05   \n",
       "min           0.00000  9.780001e+12      0.000000   0.000000e+00   \n",
       "25%           3.77000  9.780350e+12    192.000000   1.040000e+02   \n",
       "50%           3.96000  9.780590e+12    299.000000   7.450000e+02   \n",
       "75%           4.13500  9.780870e+12    416.000000   4.993500e+03   \n",
       "max           5.00000  9.789999e+12   6576.000000   4.597666e+06   \n",
       "\n",
       "       text_reviews_count  \n",
       "count        11127.000000  \n",
       "mean           541.854498  \n",
       "std           2576.176608  \n",
       "min              0.000000  \n",
       "25%              9.000000  \n",
       "50%             46.000000  \n",
       "75%            237.500000  \n",
       "max          94265.000000  "
      ]
     },
     "execution_count": 3,
     "metadata": {},
     "output_type": "execute_result"
    }
   ],
   "source": [
    "df.describe() #describe the integers and floats values "
   ]
  },
  {
   "cell_type": "markdown",
   "id": "80b0c103-8ec5-44ed-8b3e-2327d5545019",
   "metadata": {},
   "source": [
    "2) Ensuring that the data is Clean"
   ]
  },
  {
   "cell_type": "code",
   "execution_count": 4,
   "id": "c8cf76f5-82c7-49e0-91be-fe6e92e9b769",
   "metadata": {},
   "outputs": [],
   "source": [
    "df.columns = df.columns.str.strip() # Taking away white spaces at the beginning and at the end of the columns names"
   ]
  },
  {
   "cell_type": "code",
   "execution_count": 5,
   "id": "02ea345d-5008-48b3-9178-b4fa890d3f4d",
   "metadata": {},
   "outputs": [
    {
     "name": "stdout",
     "output_type": "stream",
     "text": [
      "title                 0\n",
      "authors               0\n",
      "average_rating        0\n",
      "isbn                  0\n",
      "isbn13                0\n",
      "language_code         0\n",
      "num_pages             0\n",
      "ratings_count         0\n",
      "text_reviews_count    0\n",
      "publication_date      0\n",
      "publisher             0\n",
      "dtype: int64\n"
     ]
    }
   ],
   "source": [
    "print(df.isnull().sum()) #we check if there is any Null value"
   ]
  },
  {
   "cell_type": "code",
   "execution_count": 6,
   "id": "d081b9dd-8c64-4f8f-9b09-6425acee04e7",
   "metadata": {},
   "outputs": [
    {
     "data": {
      "text/plain": [
       "0"
      ]
     },
     "execution_count": 6,
     "metadata": {},
     "output_type": "execute_result"
    }
   ],
   "source": [
    "# Checking for duplicates\n",
    "df.duplicated().sum()"
   ]
  },
  {
   "cell_type": "code",
   "execution_count": 7,
   "id": "d1ce8e05-746d-4e8a-91c5-9a9f1fd23252",
   "metadata": {},
   "outputs": [
    {
     "data": {
      "text/plain": [
       "title                 0\n",
       "authors               0\n",
       "average_rating        0\n",
       "isbn                  0\n",
       "isbn13                0\n",
       "language_code         0\n",
       "num_pages             0\n",
       "ratings_count         0\n",
       "text_reviews_count    0\n",
       "publication_date      2\n",
       "publisher             0\n",
       "dtype: int64"
      ]
     },
     "execution_count": 7,
     "metadata": {},
     "output_type": "execute_result"
    }
   ],
   "source": [
    "# converting 'publication_date' into a datatime format\n",
    "df['publication_date'] = pd.to_datetime(df['publication_date'], errors='coerce')\n",
    "df.isnull().sum() #There are two dates that didn't convert well"
   ]
  },
  {
   "cell_type": "code",
   "execution_count": 8,
   "id": "f0648494-0e1c-4ce8-86e5-b83f8b7c97f0",
   "metadata": {},
   "outputs": [
    {
     "data": {
      "text/plain": [
       "Index([31373, 45531], dtype='int64', name='bookID')"
      ]
     },
     "execution_count": 8,
     "metadata": {},
     "output_type": "execute_result"
    }
   ],
   "source": [
    "# Checking the indexes of the null values\n",
    "df[df.publication_date.isna()].index"
   ]
  },
  {
   "cell_type": "code",
   "execution_count": 9,
   "id": "903a58c8-62c8-43d4-aa01-a1d8b3fec008",
   "metadata": {},
   "outputs": [
    {
     "data": {
      "text/plain": [
       "title                 0\n",
       "authors               0\n",
       "average_rating        0\n",
       "isbn                  0\n",
       "isbn13                0\n",
       "language_code         0\n",
       "num_pages             0\n",
       "ratings_count         0\n",
       "text_reviews_count    0\n",
       "publication_date      0\n",
       "publisher             0\n",
       "dtype: int64"
      ]
     },
     "execution_count": 9,
     "metadata": {},
     "output_type": "execute_result"
    }
   ],
   "source": [
    "# replacing the data with original values after searching manually\n",
    "df.at[31373, 'publication_date'] = '1/10/2000'\n",
    "df.at[45531, 'publication_date'] = '4/23/1982'\n",
    "df['publication_date'] = pd.to_datetime(df['publication_date'], errors='coerce')\n",
    "df.isnull().sum()"
   ]
  },
  {
   "cell_type": "markdown",
   "id": "9e00711d-270b-4073-abf4-1f724d229fbf",
   "metadata": {},
   "source": [
    "3) Prepare the data "
   ]
  },
  {
   "cell_type": "code",
   "execution_count": 10,
   "id": "785f1c6c-0aa1-44e7-b6ee-f9b53a49b8b2",
   "metadata": {},
   "outputs": [
    {
     "data": {
      "text/plain": [
       "{'title': 10352,\n",
       " 'authors': 6643,\n",
       " 'isbn': 11127,\n",
       " 'language_code': 27,\n",
       " 'publication_date': 3678,\n",
       " 'publisher': 2292}"
      ]
     },
     "execution_count": 10,
     "metadata": {},
     "output_type": "execute_result"
    }
   ],
   "source": [
    "categorical_columns = df.select_dtypes(include=['object', 'datetime']).columns\n",
    "categorical_unique_values = {col: df[col].nunique() for col in categorical_columns} #checking how many unique value there is in each columns \n",
    "categorical_unique_values"
   ]
  },
  {
   "cell_type": "code",
   "execution_count": 11,
   "id": "91c12a5e-5b0b-445a-9526-77c2cd57352a",
   "metadata": {},
   "outputs": [
    {
     "data": {
      "text/plain": [
       "language_code\n",
       "eng      8911\n",
       "en-US    1409\n",
       "spa       218\n",
       "en-GB     214\n",
       "fre       144\n",
       "ger        99\n",
       "jpn        46\n",
       "mul        19\n",
       "zho        14\n",
       "grc        11\n",
       "por        10\n",
       "en-CA       7\n",
       "ita         5\n",
       "enm         3\n",
       "lat         3\n",
       "swe         2\n",
       "rus         2\n",
       "srp         1\n",
       "nl          1\n",
       "msa         1\n",
       "glg         1\n",
       "wel         1\n",
       "ara         1\n",
       "nor         1\n",
       "tur         1\n",
       "gla         1\n",
       "ale         1\n",
       "Name: count, dtype: int64"
      ]
     },
     "execution_count": 11,
     "metadata": {},
     "output_type": "execute_result"
    }
   ],
   "source": [
    "df['language_code'].value_counts() #count the number of occurrences of each language"
   ]
  },
  {
   "cell_type": "code",
   "execution_count": 12,
   "id": "2f1bafe8-8373-48b3-9e77-5af5a08672f1",
   "metadata": {},
   "outputs": [
    {
     "data": {
      "text/plain": [
       "language_code\n",
       "eng    10541\n",
       "spa      218\n",
       "fre      144\n",
       "ger       99\n",
       "jpn       46\n",
       "mul       19\n",
       "zho       14\n",
       "grc       11\n",
       "por       10\n",
       "ita        5\n",
       "lat        3\n",
       "enm        3\n",
       "rus        2\n",
       "swe        2\n",
       "nl         1\n",
       "ara        1\n",
       "srp        1\n",
       "msa        1\n",
       "glg        1\n",
       "wel        1\n",
       "nor        1\n",
       "tur        1\n",
       "gla        1\n",
       "ale        1\n",
       "Name: count, dtype: int64"
      ]
     },
     "execution_count": 12,
     "metadata": {},
     "output_type": "execute_result"
    }
   ],
   "source": [
    "df['language_code'] = df['language_code'].apply(lambda x: 'eng' if 'en-' in x else x) #merge all the english languages\n",
    "df['language_code'].value_counts()"
   ]
  },
  {
   "cell_type": "code",
   "execution_count": 13,
   "id": "65286db9-ce0b-421a-b757-a8a9ff01c380",
   "metadata": {},
   "outputs": [
    {
     "data": {
      "text/plain": [
       "language_code\n",
       "eng       10541\n",
       "spa         218\n",
       "fre         144\n",
       "ger          99\n",
       "others       79\n",
       "jpn          46\n",
       "Name: count, dtype: int64"
      ]
     },
     "execution_count": 13,
     "metadata": {},
     "output_type": "execute_result"
    }
   ],
   "source": [
    "#We have try several possibility here to see which one is the best (no merging, less than 2, less than 10 ...)\n",
    "counts = df['language_code'].value_counts() \n",
    "df['language_code'] = df['language_code'].apply(lambda x: 'others' if counts[x] < 20 else x) #merge all the language that have less than 20 occurences\n",
    "df['language_code'].value_counts()"
   ]
  },
  {
   "cell_type": "code",
   "execution_count": 14,
   "id": "1f499745-872d-4b52-a887-13c6fa3b5410",
   "metadata": {},
   "outputs": [],
   "source": [
    "df_langues = pd.get_dummies(df['language_code'], prefix='lang') # Use get_dummies to create columns for each languages category and put lang in front of each value\n",
    "df_langues = df_langues.astype(int) # Convert boolean values in integer (0,1)\n",
    "df = pd.concat([df, df_langues], axis=1) # Add the new columns "
   ]
  },
  {
   "cell_type": "code",
   "execution_count": 15,
   "id": "bdeed79d-f046-4659-a7e7-62b8d5ff9612",
   "metadata": {},
   "outputs": [],
   "source": [
    "#Create 3 new columns for the year, the month and the day of publication and one for the year since the publication of the book\n",
    "df['year'] = df['publication_date'].dt.year\n",
    "df['month'] = df['publication_date'].dt.month\n",
    "df['day'] = df['publication_date'].dt.day\n",
    "current_year = pd.to_datetime('now').year\n",
    "df['years_since_publication'] = current_year - df['publication_date'].dt.year"
   ]
  },
  {
   "cell_type": "code",
   "execution_count": 16,
   "id": "8ffa72c8-76c4-4bf7-a0ac-cfd7e29b5bce",
   "metadata": {},
   "outputs": [],
   "source": [
    "# Count the number of author and publisher for each book\n",
    "df['num_authors'] = df['authors'].apply(lambda x: len(x.split('/')))\n",
    "df['num_publishers'] = df['publisher'].apply(lambda x: len(x.split('/')))"
   ]
  },
  {
   "cell_type": "code",
   "execution_count": 17,
   "id": "69152b0c-353e-4800-a621-d6dd09fc5101",
   "metadata": {},
   "outputs": [
    {
     "data": {
      "text/plain": [
       "title_occurrences\n",
       "1    9865\n",
       "2     686\n",
       "3     222\n",
       "4     124\n",
       "5     100\n",
       "6      66\n",
       "8      32\n",
       "9      18\n",
       "7      14\n",
       "Name: count, dtype: int64"
      ]
     },
     "execution_count": 17,
     "metadata": {},
     "output_type": "execute_result"
    }
   ],
   "source": [
    "# Create new columns with the number of occurence of the author, publisher and title for each book throught the entire database\n",
    "df['author_popularity'] = df['authors'].str.split('/').explode().map(df['authors'].str.split('/').explode().value_counts()).groupby(level=0).sum()\n",
    "df['publisher_popularity'] = df['publisher'].str.split('/').explode().map(df['publisher'].str.split('/').explode().value_counts()).groupby(level=0).sum()\n",
    "df['title_occurrences'] = df['title'].map(df['title'].value_counts())\n",
    "df['title_occurrences'].value_counts()"
   ]
  },
  {
   "cell_type": "code",
   "execution_count": 18,
   "id": "200019b0-faf1-4cc1-b138-ce4a94b23a4d",
   "metadata": {},
   "outputs": [],
   "source": [
    "df = df.drop(columns=['isbn','isbn13']) # drop isbn and isbn13 columns because they didn't have any interesting informations\n",
    "df = df.drop(columns=['language_code']) #drop the language_code column that we have serparate into new columns\n",
    "df = df.drop(columns=['publication_date']) #drop the publication_date column that we have serparate into new columns\n",
    "df = df.drop(columns=['title','authors','publisher']) #drop the title, autor and publisher columns \n",
    "df = df.drop(columns=['num_authors','num_publishers']) #drop the number of authors and publishers in each book"
   ]
  },
  {
   "cell_type": "code",
   "execution_count": 19,
   "id": "61e39741-b78c-428d-a8b3-e1c03be42cb6",
   "metadata": {},
   "outputs": [
    {
     "data": {
      "text/html": [
       "<div>\n",
       "<style scoped>\n",
       "    .dataframe tbody tr th:only-of-type {\n",
       "        vertical-align: middle;\n",
       "    }\n",
       "\n",
       "    .dataframe tbody tr th {\n",
       "        vertical-align: top;\n",
       "    }\n",
       "\n",
       "    .dataframe thead th {\n",
       "        text-align: right;\n",
       "    }\n",
       "</style>\n",
       "<table border=\"1\" class=\"dataframe\">\n",
       "  <thead>\n",
       "    <tr style=\"text-align: right;\">\n",
       "      <th></th>\n",
       "      <th>average_rating</th>\n",
       "      <th>num_pages</th>\n",
       "      <th>ratings_count</th>\n",
       "      <th>text_reviews_count</th>\n",
       "      <th>lang_eng</th>\n",
       "      <th>lang_fre</th>\n",
       "      <th>lang_ger</th>\n",
       "      <th>lang_jpn</th>\n",
       "      <th>lang_others</th>\n",
       "      <th>lang_spa</th>\n",
       "      <th>year</th>\n",
       "      <th>month</th>\n",
       "      <th>day</th>\n",
       "      <th>years_since_publication</th>\n",
       "      <th>author_popularity</th>\n",
       "      <th>publisher_popularity</th>\n",
       "      <th>title_occurrences</th>\n",
       "    </tr>\n",
       "    <tr>\n",
       "      <th>bookID</th>\n",
       "      <th></th>\n",
       "      <th></th>\n",
       "      <th></th>\n",
       "      <th></th>\n",
       "      <th></th>\n",
       "      <th></th>\n",
       "      <th></th>\n",
       "      <th></th>\n",
       "      <th></th>\n",
       "      <th></th>\n",
       "      <th></th>\n",
       "      <th></th>\n",
       "      <th></th>\n",
       "      <th></th>\n",
       "      <th></th>\n",
       "      <th></th>\n",
       "      <th></th>\n",
       "    </tr>\n",
       "  </thead>\n",
       "  <tbody>\n",
       "    <tr>\n",
       "      <th>1</th>\n",
       "      <td>4.57</td>\n",
       "      <td>652</td>\n",
       "      <td>2095690</td>\n",
       "      <td>27591</td>\n",
       "      <td>1</td>\n",
       "      <td>0</td>\n",
       "      <td>0</td>\n",
       "      <td>0</td>\n",
       "      <td>0</td>\n",
       "      <td>0</td>\n",
       "      <td>2006</td>\n",
       "      <td>9</td>\n",
       "      <td>16</td>\n",
       "      <td>18</td>\n",
       "      <td>31</td>\n",
       "      <td>13</td>\n",
       "      <td>2</td>\n",
       "    </tr>\n",
       "    <tr>\n",
       "      <th>2</th>\n",
       "      <td>4.49</td>\n",
       "      <td>870</td>\n",
       "      <td>2153167</td>\n",
       "      <td>29221</td>\n",
       "      <td>1</td>\n",
       "      <td>0</td>\n",
       "      <td>0</td>\n",
       "      <td>0</td>\n",
       "      <td>0</td>\n",
       "      <td>0</td>\n",
       "      <td>2004</td>\n",
       "      <td>9</td>\n",
       "      <td>1</td>\n",
       "      <td>20</td>\n",
       "      <td>31</td>\n",
       "      <td>13</td>\n",
       "      <td>1</td>\n",
       "    </tr>\n",
       "    <tr>\n",
       "      <th>4</th>\n",
       "      <td>4.42</td>\n",
       "      <td>352</td>\n",
       "      <td>6333</td>\n",
       "      <td>244</td>\n",
       "      <td>1</td>\n",
       "      <td>0</td>\n",
       "      <td>0</td>\n",
       "      <td>0</td>\n",
       "      <td>0</td>\n",
       "      <td>0</td>\n",
       "      <td>2003</td>\n",
       "      <td>11</td>\n",
       "      <td>1</td>\n",
       "      <td>21</td>\n",
       "      <td>25</td>\n",
       "      <td>34</td>\n",
       "      <td>2</td>\n",
       "    </tr>\n",
       "    <tr>\n",
       "      <th>5</th>\n",
       "      <td>4.56</td>\n",
       "      <td>435</td>\n",
       "      <td>2339585</td>\n",
       "      <td>36325</td>\n",
       "      <td>1</td>\n",
       "      <td>0</td>\n",
       "      <td>0</td>\n",
       "      <td>0</td>\n",
       "      <td>0</td>\n",
       "      <td>0</td>\n",
       "      <td>2004</td>\n",
       "      <td>5</td>\n",
       "      <td>1</td>\n",
       "      <td>20</td>\n",
       "      <td>31</td>\n",
       "      <td>13</td>\n",
       "      <td>2</td>\n",
       "    </tr>\n",
       "    <tr>\n",
       "      <th>8</th>\n",
       "      <td>4.78</td>\n",
       "      <td>2690</td>\n",
       "      <td>41428</td>\n",
       "      <td>164</td>\n",
       "      <td>1</td>\n",
       "      <td>0</td>\n",
       "      <td>0</td>\n",
       "      <td>0</td>\n",
       "      <td>0</td>\n",
       "      <td>0</td>\n",
       "      <td>2004</td>\n",
       "      <td>9</td>\n",
       "      <td>13</td>\n",
       "      <td>20</td>\n",
       "      <td>31</td>\n",
       "      <td>34</td>\n",
       "      <td>1</td>\n",
       "    </tr>\n",
       "    <tr>\n",
       "      <th>...</th>\n",
       "      <td>...</td>\n",
       "      <td>...</td>\n",
       "      <td>...</td>\n",
       "      <td>...</td>\n",
       "      <td>...</td>\n",
       "      <td>...</td>\n",
       "      <td>...</td>\n",
       "      <td>...</td>\n",
       "      <td>...</td>\n",
       "      <td>...</td>\n",
       "      <td>...</td>\n",
       "      <td>...</td>\n",
       "      <td>...</td>\n",
       "      <td>...</td>\n",
       "      <td>...</td>\n",
       "      <td>...</td>\n",
       "      <td>...</td>\n",
       "    </tr>\n",
       "    <tr>\n",
       "      <th>45631</th>\n",
       "      <td>4.06</td>\n",
       "      <td>512</td>\n",
       "      <td>156</td>\n",
       "      <td>20</td>\n",
       "      <td>1</td>\n",
       "      <td>0</td>\n",
       "      <td>0</td>\n",
       "      <td>0</td>\n",
       "      <td>0</td>\n",
       "      <td>0</td>\n",
       "      <td>2004</td>\n",
       "      <td>12</td>\n",
       "      <td>21</td>\n",
       "      <td>20</td>\n",
       "      <td>10</td>\n",
       "      <td>21</td>\n",
       "      <td>1</td>\n",
       "    </tr>\n",
       "    <tr>\n",
       "      <th>45633</th>\n",
       "      <td>4.08</td>\n",
       "      <td>635</td>\n",
       "      <td>783</td>\n",
       "      <td>56</td>\n",
       "      <td>1</td>\n",
       "      <td>0</td>\n",
       "      <td>0</td>\n",
       "      <td>0</td>\n",
       "      <td>0</td>\n",
       "      <td>0</td>\n",
       "      <td>1988</td>\n",
       "      <td>12</td>\n",
       "      <td>1</td>\n",
       "      <td>36</td>\n",
       "      <td>8</td>\n",
       "      <td>262</td>\n",
       "      <td>1</td>\n",
       "    </tr>\n",
       "    <tr>\n",
       "      <th>45634</th>\n",
       "      <td>3.96</td>\n",
       "      <td>415</td>\n",
       "      <td>820</td>\n",
       "      <td>95</td>\n",
       "      <td>1</td>\n",
       "      <td>0</td>\n",
       "      <td>0</td>\n",
       "      <td>0</td>\n",
       "      <td>0</td>\n",
       "      <td>0</td>\n",
       "      <td>1993</td>\n",
       "      <td>8</td>\n",
       "      <td>1</td>\n",
       "      <td>31</td>\n",
       "      <td>8</td>\n",
       "      <td>262</td>\n",
       "      <td>1</td>\n",
       "    </tr>\n",
       "    <tr>\n",
       "      <th>45639</th>\n",
       "      <td>3.72</td>\n",
       "      <td>434</td>\n",
       "      <td>769</td>\n",
       "      <td>139</td>\n",
       "      <td>1</td>\n",
       "      <td>0</td>\n",
       "      <td>0</td>\n",
       "      <td>0</td>\n",
       "      <td>0</td>\n",
       "      <td>0</td>\n",
       "      <td>2007</td>\n",
       "      <td>2</td>\n",
       "      <td>27</td>\n",
       "      <td>17</td>\n",
       "      <td>8</td>\n",
       "      <td>20</td>\n",
       "      <td>1</td>\n",
       "    </tr>\n",
       "    <tr>\n",
       "      <th>45641</th>\n",
       "      <td>3.91</td>\n",
       "      <td>272</td>\n",
       "      <td>113</td>\n",
       "      <td>12</td>\n",
       "      <td>0</td>\n",
       "      <td>0</td>\n",
       "      <td>0</td>\n",
       "      <td>0</td>\n",
       "      <td>0</td>\n",
       "      <td>1</td>\n",
       "      <td>2006</td>\n",
       "      <td>5</td>\n",
       "      <td>28</td>\n",
       "      <td>18</td>\n",
       "      <td>31</td>\n",
       "      <td>4</td>\n",
       "      <td>1</td>\n",
       "    </tr>\n",
       "  </tbody>\n",
       "</table>\n",
       "<p>11127 rows × 17 columns</p>\n",
       "</div>"
      ],
      "text/plain": [
       "        average_rating  num_pages  ratings_count  text_reviews_count  \\\n",
       "bookID                                                                 \n",
       "1                 4.57        652        2095690               27591   \n",
       "2                 4.49        870        2153167               29221   \n",
       "4                 4.42        352           6333                 244   \n",
       "5                 4.56        435        2339585               36325   \n",
       "8                 4.78       2690          41428                 164   \n",
       "...                ...        ...            ...                 ...   \n",
       "45631             4.06        512            156                  20   \n",
       "45633             4.08        635            783                  56   \n",
       "45634             3.96        415            820                  95   \n",
       "45639             3.72        434            769                 139   \n",
       "45641             3.91        272            113                  12   \n",
       "\n",
       "        lang_eng  lang_fre  lang_ger  lang_jpn  lang_others  lang_spa  year  \\\n",
       "bookID                                                                        \n",
       "1              1         0         0         0            0         0  2006   \n",
       "2              1         0         0         0            0         0  2004   \n",
       "4              1         0         0         0            0         0  2003   \n",
       "5              1         0         0         0            0         0  2004   \n",
       "8              1         0         0         0            0         0  2004   \n",
       "...          ...       ...       ...       ...          ...       ...   ...   \n",
       "45631          1         0         0         0            0         0  2004   \n",
       "45633          1         0         0         0            0         0  1988   \n",
       "45634          1         0         0         0            0         0  1993   \n",
       "45639          1         0         0         0            0         0  2007   \n",
       "45641          0         0         0         0            0         1  2006   \n",
       "\n",
       "        month  day  years_since_publication  author_popularity  \\\n",
       "bookID                                                           \n",
       "1           9   16                       18                 31   \n",
       "2           9    1                       20                 31   \n",
       "4          11    1                       21                 25   \n",
       "5           5    1                       20                 31   \n",
       "8           9   13                       20                 31   \n",
       "...       ...  ...                      ...                ...   \n",
       "45631      12   21                       20                 10   \n",
       "45633      12    1                       36                  8   \n",
       "45634       8    1                       31                  8   \n",
       "45639       2   27                       17                  8   \n",
       "45641       5   28                       18                 31   \n",
       "\n",
       "        publisher_popularity  title_occurrences  \n",
       "bookID                                           \n",
       "1                         13                  2  \n",
       "2                         13                  1  \n",
       "4                         34                  2  \n",
       "5                         13                  2  \n",
       "8                         34                  1  \n",
       "...                      ...                ...  \n",
       "45631                     21                  1  \n",
       "45633                    262                  1  \n",
       "45634                    262                  1  \n",
       "45639                     20                  1  \n",
       "45641                      4                  1  \n",
       "\n",
       "[11127 rows x 17 columns]"
      ]
     },
     "execution_count": 19,
     "metadata": {},
     "output_type": "execute_result"
    }
   ],
   "source": [
    "df"
   ]
  },
  {
   "cell_type": "markdown",
   "id": "5e56c7c8-1953-48ac-8f8f-b5179801fd1c",
   "metadata": {},
   "source": [
    "4) Analyzing the data "
   ]
  },
  {
   "cell_type": "code",
   "execution_count": 20,
   "id": "2e62cb6d-1bdc-4d42-9094-4bd72134d02d",
   "metadata": {},
   "outputs": [
    {
     "data": {
      "image/png": "[encoded data removed]",
      "text/plain": [
       "<Figure size 640x480 with 1 Axes>"
      ]
     },
     "metadata": {},
     "output_type": "display_data"
    }
   ],
   "source": [
    "# Visualize outliers using box plots for numerical column 'num_pages'\n",
    "df.boxplot(column=['num_pages']) \n",
    "plt.show()"
   ]
  },
  {
   "cell_type": "code",
   "execution_count": 21,
   "id": "add0c645-57e2-4486-af64-b0612e86c882",
   "metadata": {},
   "outputs": [
    {
     "data": {
      "image/png": "[encoded data removed]",
      "text/plain": [
       "<Figure size 640x480 with 1 Axes>"
      ]
     },
     "metadata": {},
     "output_type": "display_data"
    }
   ],
   "source": [
    "# Visualize outliers using box plots for numerical column 'ratings_count'\n",
    "df.boxplot(column=['ratings_count']) \n",
    "plt.show()"
   ]
  },
  {
   "cell_type": "code",
   "execution_count": 22,
   "id": "05446bc1-b937-4ca6-9b84-5dab46bd010d",
   "metadata": {},
   "outputs": [
    {
     "data": {
      "image/png": "[encoded data removed]",
      "text/plain": [
       "<Figure size 640x480 with 1 Axes>"
      ]
     },
     "metadata": {},
     "output_type": "display_data"
    }
   ],
   "source": [
    "# Visualize outliers using box plots for numerical column 'text_reviews_count'\n",
    "df.boxplot(column=['text_reviews_count']) \n",
    "plt.show()"
   ]
  },
  {
   "cell_type": "code",
   "execution_count": 24,
   "id": "30cf3e05-bc37-434b-8219-b92e2c713c54",
   "metadata": {},
   "outputs": [
    {
     "data": {
      "image/png": "[encoded data removed]",
      "text/plain": [
       "<Figure size 1000x800 with 2 Axes>"
      ]
     },
     "metadata": {},
     "output_type": "display_data"
    }
   ],
   "source": [
    "numerical_cols = ['average_rating', 'num_pages', 'ratings_count', 'text_reviews_count', 'author_popularity', 'publisher_popularity', 'title_occurrences', 'years_since_publication']\n",
    "numerical_df = df[numerical_cols]\n",
    "correlation_matrix = numerical_df.corr()\n",
    "plt.figure(figsize=(10, 8))  # Adjust the size as needed\n",
    "sns.heatmap(correlation_matrix, annot=True, cmap='coolwarm', fmt=\".2f\", linewidths=.5)\n",
    "plt.show()"
   ]
  },
  {
   "cell_type": "markdown",
   "id": "9fcaea78-836e-447c-ba30-db7ad7ab1397",
   "metadata": {},
   "source": [
    "5) Training and evaluation of the data "
   ]
  },
  {
   "cell_type": "code",
   "execution_count": 25,
   "id": "8edf513f-63f7-4daa-a23d-c19e7d474500",
   "metadata": {},
   "outputs": [],
   "source": [
    "df_training = df"
   ]
  },
  {
   "cell_type": "code",
   "execution_count": 26,
   "id": "5cee5351-2034-45d8-9ea1-bf973ffd6b47",
   "metadata": {},
   "outputs": [
    {
     "name": "stdout",
     "output_type": "stream",
     "text": [
      "Linear Regression:\n",
      "Mean Absolute Error: 0.22406083437217963\n",
      "Root Mean Square Error: 0.3190082502869303\n",
      "\n",
      "Decision Tree:\n",
      "Mean Absolute Error: 0.3080503144654088\n",
      "Root Mean Square Error: 0.47204854548044806\n",
      "\n",
      "Random Forest:\n",
      "Mean Absolute Error: 0.21179905660377354\n",
      "Root Mean Square Error: 0.30615710067219337\n",
      "\n",
      "Lasso:\n",
      "Mean Absolute Error: 0.2255320757136965\n",
      "Root Mean Square Error: 0.3207121563955865\n",
      "\n"
     ]
    }
   ],
   "source": [
    "# Try of several model \n",
    "y = df_training[['average_rating']]\n",
    "X = df_training.drop(columns=['average_rating'])\n",
    "X_train, X_test, y_train, y_test = train_test_split(X, y, test_size=0.2, random_state=1)\n",
    "\n",
    "# Initialize different models to see which one is the best \n",
    "models = {\n",
    "    \"Linear Regression\": LinearRegression(),\n",
    "    \"Decision Tree\": DecisionTreeRegressor(),\n",
    "    \"Random Forest\": RandomForestRegressor(),\n",
    "    \"Lasso\": linear_model.Lasso()\n",
    "}\n",
    "\n",
    "# Train and evaluate each model\n",
    "for name, model in models.items():\n",
    "    model.fit(X_train, y_train)\n",
    "    y_pred = model.predict(X_test)\n",
    "    mse = mean_squared_error(y_test, y_pred)\n",
    "    mae = mean_absolute_error(y_test, y_pred)\n",
    "    rmse = np.sqrt(mse)\n",
    "    print(f\"{name}:\")\n",
    "    print(\"Mean Absolute Error:\", mae)\n",
    "    print(\"Root Mean Square Error:\", rmse)\n",
    "    print()\n"
   ]
  },
  {
   "cell_type": "markdown",
   "id": "efb1de86-bab1-48b2-a188-2681e22b9e95",
   "metadata": {},
   "source": [
    "What we found here confirm what we have saw in our research.\n",
    "Indeed, since there is no clear correlations between features, the random forest seems to be the best option.\n",
    "The random forrest is robust to outliers and noise in the data and we saw that we have some outliers. Also we have many features and random forest can automatically select important features and handle high-dimensional datasets effectively. For these reasons and the result random forrest seems to be the best choice of model.\n",
    "For the evaluation, we choose MAE. Indeed, MAE directly represents the average magnitude of errors in the same units as the target variable. This makes it easier to interpret and communicate the model's performance."
   ]
  },
  {
   "cell_type": "code",
   "execution_count": 27,
   "id": "b9a0063d-ea45-4f49-a914-0f60c1f26164",
   "metadata": {},
   "outputs": [
    {
     "name": "stdout",
     "output_type": "stream",
     "text": [
      "Best Random State: 8\n",
      "Best mae: 0.21020125786163524\n"
     ]
    }
   ],
   "source": [
    "#Find the best random state \n",
    "y = df_training[['average_rating']]\n",
    "X = df_training.drop(columns=['average_rating']) #separating into one database with the target_feature and one with all the others features\n",
    "\n",
    "# Define a range of random state values to test\n",
    "random_states = range(1, 10) #creation of a fonction to test all the random_state betxeen 1 and 1000\n",
    "\n",
    "best_random_state = None #set the best_random_state variable to None\n",
    "best_mae = 5 #set the best_mean_absolute_error to 5 (it's the maximum)\n",
    "\n",
    "# Iterate over random state values\n",
    "for random_state in random_states:\n",
    "    # Split the data into training and testing sets using the current random state\n",
    "    X_train, X_test, y_train, y_test = train_test_split(X, y, test_size=0.2, random_state=random_state)\n",
    "    \n",
    "    # Initialize and train the Random Forest model\n",
    "    model = RandomForestRegressor()\n",
    "    model.fit(X_train, y_train)\n",
    "    \n",
    "    # Make predictions\n",
    "    y_pred = model.predict(X_test)\n",
    "    \n",
    "    # Evaluate the model using accuracy\n",
    "    mae = mean_absolute_error(y_test, y_pred)\n",
    "    \n",
    "    # Check if the current random state gives better accuracy\n",
    "    if mae < best_mae:\n",
    "        best_mae = mae\n",
    "        best_random_state = random_state\n",
    "\n",
    "print(\"Best Random State:\", best_random_state)\n",
    "print(\"Best mae:\", best_mae)\n"
   ]
  }
 ],
 "metadata": {
  "kernelspec": {
   "display_name": "Python 3 (ipykernel)",
   "language": "python",
   "name": "python3"
  },
  "language_info": {
   "codemirror_mode": {
    "name": "ipython",
    "version": 3
   },
   "file_extension": ".py",
   "mimetype": "text/x-python",
   "name": "python",
   "nbconvert_exporter": "python",
   "pygments_lexer": "ipython3",
   "version": "3.11.5"
  }
 },
 "nbformat": 4,
 "nbformat_minor": 5
}
